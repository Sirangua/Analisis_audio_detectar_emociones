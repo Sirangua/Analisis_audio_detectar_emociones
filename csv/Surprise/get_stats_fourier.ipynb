{
 "cells": [
  {
   "cell_type": "markdown",
   "metadata": {},
   "source": [
    "# Obteniendo los datos estadisticos de todos los archivos\n",
    "\n",
    "Se calculan todas las variables estadisticas y se almacenan en un dataframe\n",
    "\n",
    "### Importando librerias"
   ]
  },
  {
   "cell_type": "code",
   "execution_count": 32,
   "metadata": {},
   "outputs": [],
   "source": [
    "import pandas as pd\n",
    "from scipy import stats\n",
    "from sklearn.preprocessing import MinMaxScaler\n",
    "import math\n",
    "import numpy as np\n",
    "import matplotlib.pyplot as plt"
   ]
  },
  {
   "cell_type": "markdown",
   "metadata": {},
   "source": [
    "### Importar lista con nombres de archivos\n",
    "\n",
    "*Cambiar el nombre de la lista según el sentimiento a analizar"
   ]
  },
  {
   "cell_type": "code",
   "execution_count": 33,
   "metadata": {},
   "outputs": [],
   "source": [
    "files = pd.read_csv(\"Surprise.csv\") ### MODIFICAR EL NOMBRE"
   ]
  },
  {
   "cell_type": "markdown",
   "metadata": {},
   "source": [
    "### Se crea un diccionario para almacenar las variables de cada archivo"
   ]
  },
  {
   "cell_type": "code",
   "execution_count": 34,
   "metadata": {},
   "outputs": [],
   "source": [
    "data_instance = {'M1': [],\n",
    "                 'M2': [],\n",
    "                 'M3': [],\n",
    "                 'M4': [],\n",
    "                 'C2': [],\n",
    "                 'C3': [],\n",
    "                 'C4': [],\n",
    "                 'Skewness': [],\n",
    "                 'Kurtosis': [],\n",
    "                 'Mean': [],\n",
    "                 'Absolute_mean': [],\n",
    "                 'Peak_value': [],\n",
    "                 'SRV': [],\n",
    "                 'RMS': [],\n",
    "                 'Crest_factor': [],\n",
    "                 'Shape_factor': []}"
   ]
  },
  {
   "cell_type": "code",
   "execution_count": 35,
   "metadata": {},
   "outputs": [],
   "source": [
    "#data = pd.read_csv ('JE_su01.csv')\n",
    "#\n",
    "################## Fourier #################\n",
    "#raw_data = np.ravel(data.to_numpy())\n",
    "#yf = np.fft.fft(raw_data)\n",
    "#\n",
    "#n = len(raw_data)\n",
    "#timestep = (1/44100)\n",
    "#xf = np.fft.fftfreq (n, d = timestep)\n",
    "#xf = np.fft.fftshift (xf)\n",
    "#yplot = np.fft.fftshift(yf)\n",
    "#\n",
    "#plt.plot(xf, 1.0/n * np.abs(yplot))\n",
    "#plt.grid()\n",
    "#plt.show()"
   ]
  },
  {
   "cell_type": "code",
   "execution_count": 36,
   "metadata": {},
   "outputs": [],
   "source": [
    "#a = range (len (raw_data))\n",
    "#x = list (a)\n",
    "#plt.plot (x, raw_data)\n",
    "#plt.legend (loc = (1.005,0))\n",
    "#plt.suptitle('Audio tristeza sin convolución', fontsize = 15)\n",
    "#plt.xlabel (\"Muestras\", fontsize = 13)\n",
    "#plt.ylabel (\"Valor\", fontsize = 13)\n",
    "#\n",
    "#plt.show()"
   ]
  },
  {
   "cell_type": "code",
   "execution_count": 37,
   "metadata": {},
   "outputs": [],
   "source": [
    "#plt.legend (loc = (1.005,0))\n",
    "#plt.suptitle('Audio tristeza con convolución', fontsize = 15)\n",
    "#plt.xlabel (\"Muestras\", fontsize = 13)\n",
    "#plt.ylabel (\"Valor\", fontsize = 13)\n",
    "#plt.plot (x, yplot)\n",
    "#\n",
    "#\n",
    "#plt.show()"
   ]
  },
  {
   "cell_type": "markdown",
   "metadata": {},
   "source": [
    "### Ciclo para leer todos los archivos de cada sentimiento"
   ]
  },
  {
   "cell_type": "code",
   "execution_count": 38,
   "metadata": {},
   "outputs": [],
   "source": [
    "for a in range(int(files.count())):\n",
    "    name_doc = files._get_value (a, 'Name')\n",
    "    data = pd.read_csv (name_doc)\n",
    "\n",
    "\n",
    "    ########################################################################################################################################\n",
    "    ################# Fourier #################\n",
    "    raw_data = np.ravel(data.to_numpy())\n",
    "    n = len(raw_data)\n",
    "    yf = np.fft.fft(raw_data)       #Get fourier transform\n",
    "    yfts = np.fft.fftshift(yf)\n",
    "    yftsa = 1.0/n * np.abs(yfts)        #Remove complex numbers\n",
    "\n",
    "    # Convert numpy array to DataFrame\n",
    "    data = pd.DataFrame (yftsa)\n",
    "    ##########################################################################################################################################\n",
    "\n",
    "\n",
    "    ################# Get statistical features #################\n",
    "    m1 = float (stats.moment (data, moment = 1)) #First moment \n",
    "    m2 = float (stats.moment (data, moment = 2)) #Second moment\n",
    "    m3 = float (stats.moment (data, moment = 3))#Third moment\n",
    "    m4 = float (stats.moment (data, moment = 4)) #Fourth moment\n",
    "    sc = float (m2 - math.sqrt (pow (m1,2))) #Second cumulant\n",
    "    tc = float (m3 - (3*m1*m2) - (2*pow (m1,3))) #Third cumulant\n",
    "    fc = float (m4 + (3*m3*m1) - (3*pow (m2,2)) + (12*m2*pow (m1,2)) - (6*pow (m1,4))) #Fourth cumulant\n",
    "    skew = float (stats.skew (data)) #Skewness\n",
    "    kurt = float (stats.kurtosis (data)) #Kurtosis\n",
    "    mean = float(data.mean()) #Mean\n",
    "    am = abs(float(data.mean())) #Absolute mean\n",
    "    pv = 0.5*(float(data.max()) - float(data.min())) #Peak value\n",
    "    da = abs(data)\n",
    "    dsa = da**2\n",
    "    srv = float(pow((dsa.sum()/int(dsa.count())),2)) #Square root value\n",
    "    d2 = data**2\n",
    "    rms = math.sqrt (float(d2.sum())/int(d2.count())) #Root mean square\n",
    "    cf = pv/rms #Crest factor\n",
    "    sf = rms/am #Shape factor\n",
    "\n",
    "    ################# Append features to a dictionary #################\n",
    "    data_instance ['M1'].append(m1)\n",
    "    data_instance ['M2'].append(m2)\n",
    "    data_instance ['M3'].append(m3)\n",
    "    data_instance ['M4'].append(m4)\n",
    "    data_instance ['C2'].append(sc)\n",
    "    data_instance ['C3'].append(tc)\n",
    "    data_instance ['C4'].append(fc)\n",
    "    data_instance ['Skewness'].append(skew)\n",
    "    data_instance ['Kurtosis'].append(kurt)\n",
    "    data_instance ['Mean'].append(mean)\n",
    "    data_instance ['Absolute_mean'].append(am)\n",
    "    data_instance ['Peak_value'].append(pv)\n",
    "    data_instance ['SRV'].append(srv)\n",
    "    data_instance ['RMS' ].append(rms)\n",
    "    data_instance ['Crest_factor'].append(cf)\n",
    "    data_instance ['Shape_factor'].append(sf)\n",
    "\n",
    "    del data"
   ]
  },
  {
   "cell_type": "markdown",
   "metadata": {},
   "source": [
    "### Se guarda el diccionario en un Data Frame"
   ]
  },
  {
   "cell_type": "code",
   "execution_count": 39,
   "metadata": {},
   "outputs": [
    {
     "data": {
      "text/html": [
       "<div>\n",
       "<style scoped>\n",
       "    .dataframe tbody tr th:only-of-type {\n",
       "        vertical-align: middle;\n",
       "    }\n",
       "\n",
       "    .dataframe tbody tr th {\n",
       "        vertical-align: top;\n",
       "    }\n",
       "\n",
       "    .dataframe thead th {\n",
       "        text-align: right;\n",
       "    }\n",
       "</style>\n",
       "<table border=\"1\" class=\"dataframe\">\n",
       "  <thead>\n",
       "    <tr style=\"text-align: right;\">\n",
       "      <th></th>\n",
       "      <th>M1</th>\n",
       "      <th>M2</th>\n",
       "      <th>M3</th>\n",
       "      <th>M4</th>\n",
       "      <th>C2</th>\n",
       "      <th>C3</th>\n",
       "      <th>C4</th>\n",
       "      <th>Skewness</th>\n",
       "      <th>Kurtosis</th>\n",
       "      <th>Mean</th>\n",
       "      <th>Absolute_mean</th>\n",
       "      <th>Peak_value</th>\n",
       "      <th>SRV</th>\n",
       "      <th>RMS</th>\n",
       "      <th>Crest_factor</th>\n",
       "      <th>Shape_factor</th>\n",
       "    </tr>\n",
       "  </thead>\n",
       "  <tbody>\n",
       "    <tr>\n",
       "      <th>0</th>\n",
       "      <td>0.0</td>\n",
       "      <td>1.453305e-07</td>\n",
       "      <td>1.006984e-09</td>\n",
       "      <td>2.372152e-11</td>\n",
       "      <td>1.453305e-07</td>\n",
       "      <td>1.006984e-09</td>\n",
       "      <td>2.365816e-11</td>\n",
       "      <td>18.175545</td>\n",
       "      <td>1120.127601</td>\n",
       "      <td>0.000066</td>\n",
       "      <td>0.000066</td>\n",
       "      <td>0.020934</td>\n",
       "      <td>2.239832e-14</td>\n",
       "      <td>0.000387</td>\n",
       "      <td>54.111490</td>\n",
       "      <td>5.878945</td>\n",
       "    </tr>\n",
       "    <tr>\n",
       "      <th>1</th>\n",
       "      <td>0.0</td>\n",
       "      <td>1.325298e-07</td>\n",
       "      <td>9.166487e-10</td>\n",
       "      <td>1.966733e-11</td>\n",
       "      <td>1.325298e-07</td>\n",
       "      <td>9.166487e-10</td>\n",
       "      <td>1.961463e-11</td>\n",
       "      <td>18.999088</td>\n",
       "      <td>1116.743086</td>\n",
       "      <td>0.000063</td>\n",
       "      <td>0.000063</td>\n",
       "      <td>0.019729</td>\n",
       "      <td>1.862889e-14</td>\n",
       "      <td>0.000369</td>\n",
       "      <td>53.402691</td>\n",
       "      <td>5.872381</td>\n",
       "    </tr>\n",
       "    <tr>\n",
       "      <th>2</th>\n",
       "      <td>0.0</td>\n",
       "      <td>2.826033e-07</td>\n",
       "      <td>1.878794e-09</td>\n",
       "      <td>3.534724e-11</td>\n",
       "      <td>2.826033e-07</td>\n",
       "      <td>1.878794e-09</td>\n",
       "      <td>3.510765e-11</td>\n",
       "      <td>12.505856</td>\n",
       "      <td>439.589641</td>\n",
       "      <td>0.000103</td>\n",
       "      <td>0.000103</td>\n",
       "      <td>0.019657</td>\n",
       "      <td>8.591633e-14</td>\n",
       "      <td>0.000541</td>\n",
       "      <td>36.308441</td>\n",
       "      <td>5.280609</td>\n",
       "    </tr>\n",
       "    <tr>\n",
       "      <th>3</th>\n",
       "      <td>0.0</td>\n",
       "      <td>2.486732e-07</td>\n",
       "      <td>1.630115e-09</td>\n",
       "      <td>2.462382e-11</td>\n",
       "      <td>2.486732e-07</td>\n",
       "      <td>1.630115e-09</td>\n",
       "      <td>2.443830e-11</td>\n",
       "      <td>13.145425</td>\n",
       "      <td>395.196323</td>\n",
       "      <td>0.000090</td>\n",
       "      <td>0.000090</td>\n",
       "      <td>0.019714</td>\n",
       "      <td>6.595502e-14</td>\n",
       "      <td>0.000507</td>\n",
       "      <td>38.901087</td>\n",
       "      <td>5.615614</td>\n",
       "    </tr>\n",
       "    <tr>\n",
       "      <th>4</th>\n",
       "      <td>0.0</td>\n",
       "      <td>4.135444e-07</td>\n",
       "      <td>3.125508e-09</td>\n",
       "      <td>4.201023e-11</td>\n",
       "      <td>4.135444e-07</td>\n",
       "      <td>3.125508e-09</td>\n",
       "      <td>4.149717e-11</td>\n",
       "      <td>11.752694</td>\n",
       "      <td>242.646569</td>\n",
       "      <td>0.000111</td>\n",
       "      <td>0.000111</td>\n",
       "      <td>0.019749</td>\n",
       "      <td>1.813093e-13</td>\n",
       "      <td>0.000653</td>\n",
       "      <td>30.264534</td>\n",
       "      <td>5.893348</td>\n",
       "    </tr>\n",
       "  </tbody>\n",
       "</table>\n",
       "</div>"
      ],
      "text/plain": [
       "    M1            M2            M3            M4            C2            C3  \\\n",
       "0  0.0  1.453305e-07  1.006984e-09  2.372152e-11  1.453305e-07  1.006984e-09   \n",
       "1  0.0  1.325298e-07  9.166487e-10  1.966733e-11  1.325298e-07  9.166487e-10   \n",
       "2  0.0  2.826033e-07  1.878794e-09  3.534724e-11  2.826033e-07  1.878794e-09   \n",
       "3  0.0  2.486732e-07  1.630115e-09  2.462382e-11  2.486732e-07  1.630115e-09   \n",
       "4  0.0  4.135444e-07  3.125508e-09  4.201023e-11  4.135444e-07  3.125508e-09   \n",
       "\n",
       "             C4   Skewness     Kurtosis      Mean  Absolute_mean  Peak_value  \\\n",
       "0  2.365816e-11  18.175545  1120.127601  0.000066       0.000066    0.020934   \n",
       "1  1.961463e-11  18.999088  1116.743086  0.000063       0.000063    0.019729   \n",
       "2  3.510765e-11  12.505856   439.589641  0.000103       0.000103    0.019657   \n",
       "3  2.443830e-11  13.145425   395.196323  0.000090       0.000090    0.019714   \n",
       "4  4.149717e-11  11.752694   242.646569  0.000111       0.000111    0.019749   \n",
       "\n",
       "            SRV       RMS  Crest_factor  Shape_factor  \n",
       "0  2.239832e-14  0.000387     54.111490      5.878945  \n",
       "1  1.862889e-14  0.000369     53.402691      5.872381  \n",
       "2  8.591633e-14  0.000541     36.308441      5.280609  \n",
       "3  6.595502e-14  0.000507     38.901087      5.615614  \n",
       "4  1.813093e-13  0.000653     30.264534      5.893348  "
      ]
     },
     "execution_count": 39,
     "metadata": {},
     "output_type": "execute_result"
    }
   ],
   "source": [
    "data_stats = pd.DataFrame(data=data_instance)\n",
    "data_stats.head()"
   ]
  },
  {
   "cell_type": "markdown",
   "metadata": {},
   "source": [
    "### Normalizacion\n"
   ]
  },
  {
   "cell_type": "code",
   "execution_count": 40,
   "metadata": {},
   "outputs": [],
   "source": [
    "#scaler = MinMaxScaler()\n",
    "#data_stats = pd.DataFrame (scaler.fit_transform(stats),columns=['M1','M2','M3','M4','C2','C3','C4','Skewness','Kurtosis','Mean','Absolute_mean','Peak_value','SRV','RMS','Crest_factor','Shape_factor'])\n",
    "#\n",
    "#data_stats.head()"
   ]
  },
  {
   "cell_type": "markdown",
   "metadata": {},
   "source": [
    "### Se guarda en un .csv"
   ]
  },
  {
   "cell_type": "code",
   "execution_count": 41,
   "metadata": {},
   "outputs": [],
   "source": [
    "################# Create a dataframe from dictionary #################\n",
    "data_stats.to_csv (r'E:\\Universidad\\Semestre 7\\Procesamiento señales digitales\\SAVEE\\csv\\stats\\Stats_surprise_fourier.csv')"
   ]
  }
 ],
 "metadata": {
  "kernelspec": {
   "display_name": "Python 3.9.12 ('base')",
   "language": "python",
   "name": "python3"
  },
  "language_info": {
   "codemirror_mode": {
    "name": "ipython",
    "version": 3
   },
   "file_extension": ".py",
   "mimetype": "text/x-python",
   "name": "python",
   "nbconvert_exporter": "python",
   "pygments_lexer": "ipython3",
   "version": "3.9.12"
  },
  "orig_nbformat": 4,
  "vscode": {
   "interpreter": {
    "hash": "23ee8838b6f140c114a78ba19078c4e322522d69deb724e207822874dd3cc55b"
   }
  }
 },
 "nbformat": 4,
 "nbformat_minor": 2
}
