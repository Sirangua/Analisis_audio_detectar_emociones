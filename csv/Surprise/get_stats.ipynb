{
 "cells": [
  {
   "cell_type": "markdown",
   "metadata": {},
   "source": [
    "# Obteniendo los datos estadisticos de todos los archivos\n",
    "\n",
    "Se calculan todas las variables estadisticas y se almacenan en un dataframe\n",
    "\n",
    "### Importando librerias"
   ]
  },
  {
   "cell_type": "code",
   "execution_count": 1,
   "metadata": {},
   "outputs": [],
   "source": [
    "import pandas as pd\n",
    "from scipy import stats\n",
    "from sklearn.preprocessing import MinMaxScaler\n",
    "import math\n",
    "import numpy as np\n",
    "import matplotlib.pyplot as plt"
   ]
  },
  {
   "cell_type": "markdown",
   "metadata": {},
   "source": [
    "### Importar lista con nombres de archivos\n",
    "\n",
    "*Cambiar el nombre de la lista según el sentimiento a analizar"
   ]
  },
  {
   "cell_type": "code",
   "execution_count": 2,
   "metadata": {},
   "outputs": [],
   "source": [
    "files = pd.read_csv(\"Surprise.csv\") ### MODIFICAR EL NOMBRE"
   ]
  },
  {
   "cell_type": "markdown",
   "metadata": {},
   "source": [
    "### Se crea un diccionario para almacenar las variables de cada archivo"
   ]
  },
  {
   "cell_type": "code",
   "execution_count": 3,
   "metadata": {},
   "outputs": [],
   "source": [
    "data_instance = {'M1': [],\n",
    "                 'M2': [],\n",
    "                 'M3': [],\n",
    "                 'M4': [],\n",
    "                 'C2': [],\n",
    "                 'C3': [],\n",
    "                 'C4': [],\n",
    "                 'Skewness': [],\n",
    "                 'Kurtosis': [],\n",
    "                 'Mean': [],\n",
    "                 'Absolute_mean': [],\n",
    "                 'Peak_value': [],\n",
    "                 'SRV': [],\n",
    "                 'RMS': [],\n",
    "                 'Crest_factor': [],\n",
    "                 'Shape_factor': []}"
   ]
  },
  {
   "cell_type": "code",
   "execution_count": 4,
   "metadata": {},
   "outputs": [],
   "source": [
    "#data = pd.read_csv ('JE_sa01.csv')\n",
    "#\n",
    "################## Convolution #################\n",
    "#raw_data = np.ravel(data.to_numpy())\n",
    "#\n",
    "##raw_data = np.array ([1, 2 , 3, 4, 5, 6, 7, 8, 9, 10])\n",
    "## Kernel convolution 1\n",
    "#k1 = np.array ([2, 4, 8, 16, 8, 4, 2]) #Gaussian mask\n",
    "#c1 = np.convolve (raw_data, k1, mode = 'same')\n",
    "#\n",
    "## Kernel convolution 2 \n",
    "#k2 = np.array ([1,-4 ,1 ]) #Detección de bordes\n",
    "#c2 = np.convolve (c1, k2, mode = 'same')\n",
    "#\n",
    "#print (len(raw_data),len(c1),len(c2), len(k1))"
   ]
  },
  {
   "cell_type": "code",
   "execution_count": 5,
   "metadata": {},
   "outputs": [],
   "source": [
    "#a = range (len (raw_data))\n",
    "#x = list (a)\n",
    "#plt.plot (x, raw_data)\n",
    "#plt.legend (loc = (1.005,0))\n",
    "#plt.suptitle('Audio tristeza sin convolución', fontsize = 15)\n",
    "#plt.xlabel (\"Muestras\", fontsize = 13)\n",
    "#plt.ylabel (\"Valor\", fontsize = 13)\n",
    "#\n",
    "#plt.savefig (\"tristeza_raw.jpg\", bbox_inches=\"tight\", quality = 100, dpi = 300)"
   ]
  },
  {
   "cell_type": "code",
   "execution_count": 6,
   "metadata": {},
   "outputs": [],
   "source": [
    "#plt.legend (loc = (1.005,0))\n",
    "#plt.suptitle('Audio tristeza con convolución', fontsize = 15)\n",
    "#plt.xlabel (\"Muestras\", fontsize = 13)\n",
    "#plt.ylabel (\"Valor\", fontsize = 13)\n",
    "#plt.plot (x, c2)\n",
    "#\n",
    "#plt.savefig (\"tristeza_conv.jpg\", bbox_inches=\"tight\", quality = 100, dpi = 300)"
   ]
  },
  {
   "cell_type": "markdown",
   "metadata": {},
   "source": [
    "### Ciclo para leer todos los archivos de cada sentimiento"
   ]
  },
  {
   "cell_type": "code",
   "execution_count": 7,
   "metadata": {},
   "outputs": [],
   "source": [
    "for a in range(int(files.count())):\n",
    "    name_doc = files._get_value (a, 'Name')\n",
    "    data = pd.read_csv (name_doc)\n",
    "\n",
    "\n",
    "    ########################################################################################################################################\n",
    "    ################# Convolution #################\n",
    "    raw_data = np.ravel(data.to_numpy())\n",
    "\n",
    "    # Kernel convolution 1\n",
    "    k1 = np.array ([2, 4, 8, 16, 8, 4, 2]) #Gaussian mask\n",
    "    c1 = np.convolve (raw_data, k1, mode = 'same')\n",
    "\n",
    "    # Kernel convolution 2 \n",
    "    k2 = np.array ([1,-4 ,1 ]) #Detección de bordes\n",
    "    c2 = np.convolve (c1, k2, mode = 'same')\n",
    "\n",
    "    # Convert numpy array to DataFrame\n",
    "    data = pd.DataFrame (c2)\n",
    "    ##########################################################################################################################################\n",
    "\n",
    "\n",
    "    ################# Get statistical features #################\n",
    "    m1 = float (stats.moment (data, moment = 1)) #First moment \n",
    "    m2 = float (stats.moment (data, moment = 2)) #Second moment\n",
    "    m3 = float (stats.moment (data, moment = 3))#Third moment\n",
    "    m4 = float (stats.moment (data, moment = 4)) #Fourth moment\n",
    "    sc = float (m2 - math.sqrt (pow (m1,2))) #Second cumulant\n",
    "    tc = float (m3 - (3*m1*m2) - (2*pow (m1,3))) #Third cumulant\n",
    "    fc = float (m4 + (3*m3*m1) - (3*pow (m2,2)) + (12*m2*pow (m1,2)) - (6*pow (m1,4))) #Fourth cumulant\n",
    "    skew = float (stats.skew (data)) #Skewness\n",
    "    kurt = float (stats.kurtosis (data)) #Kurtosis\n",
    "    mean = float(data.mean()) #Mean\n",
    "    am = abs(float(data.mean())) #Absolute mean\n",
    "    pv = 0.5*(float(data.max()) - float(data.min())) #Peak value\n",
    "    da = abs(data)\n",
    "    dsa = da**2\n",
    "    srv = float(pow((dsa.sum()/int(dsa.count())),2)) #Square root value\n",
    "    d2 = data**2\n",
    "    rms = math.sqrt (float(d2.sum())/int(d2.count())) #Root mean square\n",
    "    cf = pv/rms #Crest factor\n",
    "    sf = rms/am #Shape factor\n",
    "\n",
    "    ################# Append features to a dictionary #################\n",
    "    data_instance ['M1'].append(m1)\n",
    "    data_instance ['M2'].append(m2)\n",
    "    data_instance ['M3'].append(m3)\n",
    "    data_instance ['M4'].append(m4)\n",
    "    data_instance ['C2'].append(sc)\n",
    "    data_instance ['C3'].append(tc)\n",
    "    data_instance ['C4'].append(fc)\n",
    "    data_instance ['Skewness'].append(skew)\n",
    "    data_instance ['Kurtosis'].append(kurt)\n",
    "    data_instance ['Mean'].append(mean)\n",
    "    data_instance ['Absolute_mean'].append(am)\n",
    "    data_instance ['Peak_value'].append(pv)\n",
    "    data_instance ['SRV'].append(srv)\n",
    "    data_instance ['RMS' ].append(rms)\n",
    "    data_instance ['Crest_factor'].append(cf)\n",
    "    data_instance ['Shape_factor'].append(sf)\n",
    "\n",
    "    del data"
   ]
  },
  {
   "cell_type": "markdown",
   "metadata": {},
   "source": [
    "### Se guarda el diccionario en un Data Frame"
   ]
  },
  {
   "cell_type": "code",
   "execution_count": 8,
   "metadata": {},
   "outputs": [
    {
     "data": {
      "text/html": [
       "<div>\n",
       "<style scoped>\n",
       "    .dataframe tbody tr th:only-of-type {\n",
       "        vertical-align: middle;\n",
       "    }\n",
       "\n",
       "    .dataframe tbody tr th {\n",
       "        vertical-align: top;\n",
       "    }\n",
       "\n",
       "    .dataframe thead th {\n",
       "        text-align: right;\n",
       "    }\n",
       "</style>\n",
       "<table border=\"1\" class=\"dataframe\">\n",
       "  <thead>\n",
       "    <tr style=\"text-align: right;\">\n",
       "      <th></th>\n",
       "      <th>M1</th>\n",
       "      <th>M2</th>\n",
       "      <th>M3</th>\n",
       "      <th>M4</th>\n",
       "      <th>C2</th>\n",
       "      <th>C3</th>\n",
       "      <th>C4</th>\n",
       "      <th>Skewness</th>\n",
       "      <th>Kurtosis</th>\n",
       "      <th>Mean</th>\n",
       "      <th>Absolute_mean</th>\n",
       "      <th>Peak_value</th>\n",
       "      <th>SRV</th>\n",
       "      <th>RMS</th>\n",
       "      <th>Crest_factor</th>\n",
       "      <th>Shape_factor</th>\n",
       "    </tr>\n",
       "  </thead>\n",
       "  <tbody>\n",
       "    <tr>\n",
       "      <th>0</th>\n",
       "      <td>0.0</td>\n",
       "      <td>151.810253</td>\n",
       "      <td>1685.912804</td>\n",
       "      <td>2.039052e+05</td>\n",
       "      <td>151.810253</td>\n",
       "      <td>1685.912804</td>\n",
       "      <td>134766.166724</td>\n",
       "      <td>0.901329</td>\n",
       "      <td>5.847614</td>\n",
       "      <td>-3.684300</td>\n",
       "      <td>3.684300</td>\n",
       "      <td>75.188080</td>\n",
       "      <td>27351.973825</td>\n",
       "      <td>12.860184</td>\n",
       "      <td>5.846579</td>\n",
       "      <td>3.490536</td>\n",
       "    </tr>\n",
       "    <tr>\n",
       "      <th>1</th>\n",
       "      <td>0.0</td>\n",
       "      <td>137.825838</td>\n",
       "      <td>1109.988578</td>\n",
       "      <td>1.125506e+05</td>\n",
       "      <td>137.825838</td>\n",
       "      <td>1109.988578</td>\n",
       "      <td>55562.761346</td>\n",
       "      <td>0.685998</td>\n",
       "      <td>2.924978</td>\n",
       "      <td>-3.472335</td>\n",
       "      <td>3.472335</td>\n",
       "      <td>49.977142</td>\n",
       "      <td>22464.897481</td>\n",
       "      <td>12.242669</td>\n",
       "      <td>4.082210</td>\n",
       "      <td>3.525775</td>\n",
       "    </tr>\n",
       "    <tr>\n",
       "      <th>2</th>\n",
       "      <td>0.0</td>\n",
       "      <td>173.946425</td>\n",
       "      <td>2350.148937</td>\n",
       "      <td>2.596430e+05</td>\n",
       "      <td>173.946425</td>\n",
       "      <td>2350.148937</td>\n",
       "      <td>168870.968501</td>\n",
       "      <td>1.024406</td>\n",
       "      <td>5.581154</td>\n",
       "      <td>-3.459693</td>\n",
       "      <td>3.459693</td>\n",
       "      <td>73.510406</td>\n",
       "      <td>34564.721214</td>\n",
       "      <td>13.635098</td>\n",
       "      <td>5.391264</td>\n",
       "      <td>3.941130</td>\n",
       "    </tr>\n",
       "    <tr>\n",
       "      <th>3</th>\n",
       "      <td>0.0</td>\n",
       "      <td>280.702595</td>\n",
       "      <td>2985.622649</td>\n",
       "      <td>5.708704e+05</td>\n",
       "      <td>280.702595</td>\n",
       "      <td>2985.622649</td>\n",
       "      <td>334488.582024</td>\n",
       "      <td>0.634841</td>\n",
       "      <td>4.245105</td>\n",
       "      <td>-3.469648</td>\n",
       "      <td>3.469648</td>\n",
       "      <td>87.158264</td>\n",
       "      <td>85697.324848</td>\n",
       "      <td>17.109677</td>\n",
       "      <td>5.094092</td>\n",
       "      <td>4.931243</td>\n",
       "    </tr>\n",
       "    <tr>\n",
       "      <th>4</th>\n",
       "      <td>0.0</td>\n",
       "      <td>397.563831</td>\n",
       "      <td>4408.181706</td>\n",
       "      <td>1.228660e+06</td>\n",
       "      <td>397.563831</td>\n",
       "      <td>4408.181706</td>\n",
       "      <td>754488.996543</td>\n",
       "      <td>0.556095</td>\n",
       "      <td>4.773525</td>\n",
       "      <td>-3.475766</td>\n",
       "      <td>3.475766</td>\n",
       "      <td>88.042816</td>\n",
       "      <td>167808.848098</td>\n",
       "      <td>20.239683</td>\n",
       "      <td>4.350010</td>\n",
       "      <td>5.823085</td>\n",
       "    </tr>\n",
       "  </tbody>\n",
       "</table>\n",
       "</div>"
      ],
      "text/plain": [
       "    M1          M2           M3            M4          C2           C3  \\\n",
       "0  0.0  151.810253  1685.912804  2.039052e+05  151.810253  1685.912804   \n",
       "1  0.0  137.825838  1109.988578  1.125506e+05  137.825838  1109.988578   \n",
       "2  0.0  173.946425  2350.148937  2.596430e+05  173.946425  2350.148937   \n",
       "3  0.0  280.702595  2985.622649  5.708704e+05  280.702595  2985.622649   \n",
       "4  0.0  397.563831  4408.181706  1.228660e+06  397.563831  4408.181706   \n",
       "\n",
       "              C4  Skewness  Kurtosis      Mean  Absolute_mean  Peak_value  \\\n",
       "0  134766.166724  0.901329  5.847614 -3.684300       3.684300   75.188080   \n",
       "1   55562.761346  0.685998  2.924978 -3.472335       3.472335   49.977142   \n",
       "2  168870.968501  1.024406  5.581154 -3.459693       3.459693   73.510406   \n",
       "3  334488.582024  0.634841  4.245105 -3.469648       3.469648   87.158264   \n",
       "4  754488.996543  0.556095  4.773525 -3.475766       3.475766   88.042816   \n",
       "\n",
       "             SRV        RMS  Crest_factor  Shape_factor  \n",
       "0   27351.973825  12.860184      5.846579      3.490536  \n",
       "1   22464.897481  12.242669      4.082210      3.525775  \n",
       "2   34564.721214  13.635098      5.391264      3.941130  \n",
       "3   85697.324848  17.109677      5.094092      4.931243  \n",
       "4  167808.848098  20.239683      4.350010      5.823085  "
      ]
     },
     "execution_count": 8,
     "metadata": {},
     "output_type": "execute_result"
    }
   ],
   "source": [
    "data_stats = pd.DataFrame(data=data_instance)\n",
    "data_stats.head()"
   ]
  },
  {
   "cell_type": "markdown",
   "metadata": {},
   "source": [
    "### Normalizacion\n"
   ]
  },
  {
   "cell_type": "code",
   "execution_count": 9,
   "metadata": {},
   "outputs": [],
   "source": [
    "#scaler = MinMaxScaler()\n",
    "#data_stats = pd.DataFrame (scaler.fit_transform(stats),columns=['M1','M2','M3','M4','C2','C3','C4','Skewness','Kurtosis','Mean','Absolute_mean','Peak_value','SRV','RMS','Crest_factor','Shape_factor'])\n",
    "#\n",
    "#data_stats.head()"
   ]
  },
  {
   "cell_type": "markdown",
   "metadata": {},
   "source": [
    "### Se guarda en un .csv"
   ]
  },
  {
   "cell_type": "code",
   "execution_count": 10,
   "metadata": {},
   "outputs": [],
   "source": [
    "################# Create a dataframe from dictionary #################\n",
    "data_stats.to_csv (r'E:\\Universidad\\Semestre 7\\Procesamiento señales digitales\\SAVEE\\csv\\stats\\Stats_surprise.csv')"
   ]
  }
 ],
 "metadata": {
  "kernelspec": {
   "display_name": "Python 3.9.12 ('base')",
   "language": "python",
   "name": "python3"
  },
  "language_info": {
   "codemirror_mode": {
    "name": "ipython",
    "version": 3
   },
   "file_extension": ".py",
   "mimetype": "text/x-python",
   "name": "python",
   "nbconvert_exporter": "python",
   "pygments_lexer": "ipython3",
   "version": "3.9.12"
  },
  "orig_nbformat": 4,
  "vscode": {
   "interpreter": {
    "hash": "23ee8838b6f140c114a78ba19078c4e322522d69deb724e207822874dd3cc55b"
   }
  }
 },
 "nbformat": 4,
 "nbformat_minor": 2
}
