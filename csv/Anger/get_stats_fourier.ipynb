{
 "cells": [
  {
   "cell_type": "markdown",
   "metadata": {},
   "source": [
    "# Obteniendo los datos estadisticos de todos los archivos\n",
    "\n",
    "Se calculan todas las variables estadisticas y se almacenan en un dataframe\n",
    "\n",
    "### Importando librerias"
   ]
  },
  {
   "cell_type": "code",
   "execution_count": 1,
   "metadata": {},
   "outputs": [],
   "source": [
    "import pandas as pd\n",
    "from scipy import stats\n",
    "from sklearn.preprocessing import MinMaxScaler\n",
    "import math\n",
    "import numpy as np\n",
    "import matplotlib.pyplot as plt"
   ]
  },
  {
   "cell_type": "markdown",
   "metadata": {},
   "source": [
    "### Importar lista con nombres de archivos\n",
    "\n",
    "*Cambiar el nombre de la lista según el sentimiento a analizar"
   ]
  },
  {
   "cell_type": "code",
   "execution_count": 2,
   "metadata": {},
   "outputs": [],
   "source": [
    "files = pd.read_csv(\"Anger.csv\") ### MODIFICAR EL NOMBRE"
   ]
  },
  {
   "cell_type": "markdown",
   "metadata": {},
   "source": [
    "### Se crea un diccionario para almacenar las variables de cada archivo"
   ]
  },
  {
   "cell_type": "code",
   "execution_count": 3,
   "metadata": {},
   "outputs": [],
   "source": [
    "data_instance = {'M1': [],\n",
    "                 'M2': [],\n",
    "                 'M3': [],\n",
    "                 'M4': [],\n",
    "                 'C2': [],\n",
    "                 'C3': [],\n",
    "                 'C4': [],\n",
    "                 'Skewness': [],\n",
    "                 'Kurtosis': [],\n",
    "                 'Mean': [],\n",
    "                 'Absolute_mean': [],\n",
    "                 'Peak_value': [],\n",
    "                 'SRV': [],\n",
    "                 'RMS': [],\n",
    "                 'Crest_factor': [],\n",
    "                 'Shape_factor': []}"
   ]
  },
  {
   "cell_type": "markdown",
   "metadata": {},
   "source": [
    "### Ciclo para leer todos los archivos de cada sentimiento"
   ]
  },
  {
   "cell_type": "code",
   "execution_count": 4,
   "metadata": {},
   "outputs": [],
   "source": [
    "for a in range(int(files.count())):\n",
    "    name_doc = files._get_value (a, 'Name')\n",
    "    data = pd.read_csv (name_doc)\n",
    "\n",
    "\n",
    "    ########################################################################################################################################\n",
    "    ################# Fourier #################\n",
    "    raw_data = np.ravel(data.to_numpy())\n",
    "    n = len(raw_data)\n",
    "    yf = np.fft.fft(raw_data)       #Get fourier transform\n",
    "    yfts = np.fft.fftshift(yf)\n",
    "    yftsa = 1.0/n * np.abs(yfts)        #Remove complex numbers\n",
    "\n",
    "    # Convert numpy array to DataFrame\n",
    "    data = pd.DataFrame (yftsa)\n",
    "    ##########################################################################################################################################\n",
    "\n",
    "\n",
    "    ################# Get statistical features #################\n",
    "    m1 = float (stats.moment (data, moment = 1)) #First moment \n",
    "    m2 = float (stats.moment (data, moment = 2)) #Second moment\n",
    "    m3 = float (stats.moment (data, moment = 3))#Third moment\n",
    "    m4 = float (stats.moment (data, moment = 4)) #Fourth moment\n",
    "    sc = float (m2 - math.sqrt (pow (m1,2))) #Second cumulant\n",
    "    tc = float (m3 - (3*m1*m2) - (2*pow (m1,3))) #Third cumulant\n",
    "    fc = float (m4 + (3*m3*m1) - (3*pow (m2,2)) + (12*m2*pow (m1,2)) - (6*pow (m1,4))) #Fourth cumulant\n",
    "    skew = float (stats.skew (data)) #Skewness\n",
    "    kurt = float (stats.kurtosis (data)) #Kurtosis\n",
    "    mean = float(data.mean())# Mean\n",
    "    am = abs(float(data.mean())) #Absolute mean\n",
    "    pv = 0.5*(float(data.max()) - float(data.min())) #Peak value\n",
    "    da = abs(data)\n",
    "    dsa = da**2\n",
    "    srv = float(pow((dsa.sum()/int(dsa.count())),2)) #Square root value\n",
    "    d2 = data**2\n",
    "    rms = math.sqrt (float(d2.sum())/int(d2.count())) #Root mean square\n",
    "    cf = pv/rms #Crest factor\n",
    "    sf = rms/am #Shape factor\n",
    "\n",
    "    ################# Append features to a dictionary #################\n",
    "    data_instance ['M1'].append(m1)\n",
    "    data_instance ['M2'].append(m2)\n",
    "    data_instance ['M3'].append(m3)\n",
    "    data_instance ['M4'].append(m4)\n",
    "    data_instance ['C2'].append(sc)\n",
    "    data_instance ['C3'].append(tc)\n",
    "    data_instance ['C4'].append(fc)\n",
    "    data_instance ['Skewness'].append(skew)\n",
    "    data_instance ['Kurtosis'].append(kurt)\n",
    "    data_instance ['Mean'].append(mean)\n",
    "    data_instance ['Absolute_mean'].append(am)\n",
    "    data_instance ['Peak_value'].append(pv)\n",
    "    data_instance ['SRV'].append(srv)\n",
    "    data_instance ['RMS' ].append(rms)\n",
    "    data_instance ['Crest_factor'].append(cf)\n",
    "    data_instance ['Shape_factor'].append(sf)\n",
    "\n",
    "    del data"
   ]
  },
  {
   "cell_type": "markdown",
   "metadata": {},
   "source": [
    "### Se crea un dataframe con todos los datos estadisticos y se guarda en un .csv"
   ]
  },
  {
   "cell_type": "code",
   "execution_count": 5,
   "metadata": {},
   "outputs": [],
   "source": [
    "################# Create a dataframe from dictionary #################\n",
    "data_stats = pd.DataFrame(data=data_instance)\n",
    "data_stats.head()\n",
    "data_stats.to_csv (r\"E:\\Universidad\\Semestre 7\\Procesamiento señales digitales\\SAVEE\\csv\\stats\\Stats_anger_fourier.csv\")"
   ]
  }
 ],
 "metadata": {
  "kernelspec": {
   "display_name": "Python 3.9.12 ('base')",
   "language": "python",
   "name": "python3"
  },
  "language_info": {
   "codemirror_mode": {
    "name": "ipython",
    "version": 3
   },
   "file_extension": ".py",
   "mimetype": "text/x-python",
   "name": "python",
   "nbconvert_exporter": "python",
   "pygments_lexer": "ipython3",
   "version": "3.9.12"
  },
  "orig_nbformat": 4,
  "vscode": {
   "interpreter": {
    "hash": "23ee8838b6f140c114a78ba19078c4e322522d69deb724e207822874dd3cc55b"
   }
  }
 },
 "nbformat": 4,
 "nbformat_minor": 2
}
