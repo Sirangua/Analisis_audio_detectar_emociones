{
  "nbformat": 4,
  "nbformat_minor": 0,
  "metadata": {
    "colab": {
      "provenance": [],
      "authorship_tag": "ABX9TyMk7cRvBf0zZSxv2ZjkDj72",
      "include_colab_link": true
    },
    "kernelspec": {
      "name": "python3",
      "display_name": "Python 3"
    },
    "language_info": {
      "name": "python"
    }
  },
  "cells": [
    {
      "cell_type": "markdown",
      "metadata": {
        "id": "view-in-github",
        "colab_type": "text"
      },
      "source": [
        "<a href=\"https://colab.research.google.com/github/Sirangua/Analisis_audio_detectar_emociones/blob/master/Power_Consuption_IoTDevices.ipynb\" target=\"_parent\"><img src=\"https://colab.research.google.com/assets/colab-badge.svg\" alt=\"Open In Colab\"/></a>"
      ]
    },
    {
      "cell_type": "code",
      "execution_count": 65,
      "metadata": {
        "id": "CbTKnxo-_3TR"
      },
      "outputs": [],
      "source": [
        "import numpy as np\n",
        "import matplotlib.pyplot as plt"
      ]
    },
    {
      "cell_type": "markdown",
      "source": [
        "LoRa"
      ],
      "metadata": {
        "id": "kPdoU_1PKy1N"
      }
    },
    {
      "cell_type": "code",
      "source": [
        "def lora (Tnotif):\n",
        "  # DR = 0, Tw2w = 100\n",
        "  TI = 0\n",
        "  #Tnotif = 60000 #60s\n",
        "  Tact = 4877.94\n",
        "  Tsleep = (Tnotif-Tact)\n",
        "  ti = np.array ([168.2,83.8,2793.5,983.3,262.14,100,33,147.4,268,38.6, Tsleep])\n",
        "  ii = np.array ([22.1,13.3,83,27,38.1,27.1,35,13.2,21,13.3,0.045])\n",
        "  for i in range (11):\n",
        "    TI += ti[i] *ii [i]\n",
        "  I_lora = ((1/Tnotif)*(TI))\n",
        "  return I_lora"
      ],
      "metadata": {
        "id": "o8gdVZxXAGXI"
      },
      "execution_count": 66,
      "outputs": []
    },
    {
      "cell_type": "markdown",
      "source": [
        "Bluetooth"
      ],
      "metadata": {
        "id": "-geTYlEjDfWm"
      }
    },
    {
      "cell_type": "code",
      "source": [
        "def bluetooth (PollTimeOut):\n",
        "  # Tdata = 1000 ms, Recieve window = 255 ms\n",
        "  TI = 0\n",
        "  TI2 = 0\n",
        "  Tdata = 1000\n",
        "  #PollTimeOut = 60000\n",
        "  Tact = 146.82 + (14.63*(PollTimeOut /Tdata ))\n",
        "  Tsleep = PollTimeOut-Tact\n",
        "  ti = np.array ([Tsleep, 1.51, 0.52, 1.53, 0.53, 0.3, 0.33, 0.29, 0.62, 14, 1.57, 255, 0.32, 26.3])\n",
        "  ii = np.array ([0.015, 0.38, 8.45, 8.85, 8.87, 3.66, 3.91, 5.84, 1.2, 0.074, 0.34, 13.9, 6.44, 0.07])\n",
        "  for i in range (13):\n",
        "    TI += ti[i] *ii [i]\n",
        "  for i in range (9):\n",
        "    TI2 += ti[i] *ii [i]\n",
        "  I_bluetooth = (1/PollTimeOut)*(TI+((PollTimeOut/Tdata)*TI2))\n",
        "  return I_bluetooth"
      ],
      "metadata": {
        "id": "1cv3lVtCLEkn"
      },
      "execution_count": 67,
      "outputs": []
    },
    {
      "cell_type": "markdown",
      "source": [
        "SigFox"
      ],
      "metadata": {
        "id": "PTI8Xr0lG7Gh"
      }
    },
    {
      "cell_type": "code",
      "source": [
        "def sigfox (Tperiod):\n",
        "  # 12-byte payload, unidireccional\n",
        "  TI = 0\n",
        "  #Tperiod = 60000\n",
        "  Tsleep = Tperiod - 8009\n",
        "  ti = np.array ([287, 2080, 486, 510, Tperiod])\n",
        "  ii = np.array ([10.4, 27.2, 1.2, 1.2, 0.016])\n",
        "  for i in range (5):\n",
        "    if i == 1:\n",
        "      TI += ti[i] *ii [i] * 3\n",
        "    elif i == 2:\n",
        "      TI += ti[i] *ii [i] * 2\n",
        "    else:\n",
        "      TI += ti[i] *ii [i]\n",
        "\n",
        "  I_sigfox = (1/Tperiod)*TI\n",
        "  return I_sigfox"
      ],
      "metadata": {
        "id": "1RbUIezYG886"
      },
      "execution_count": 68,
      "outputs": []
    },
    {
      "cell_type": "markdown",
      "source": [
        "NB_IoT"
      ],
      "metadata": {
        "id": "BHwG44SsPDGw"
      }
    },
    {
      "cell_type": "code",
      "source": [
        "def nb_iot (deepsleep):\n",
        "  TI = 0\n",
        "  #deepsleep = 60000 #60s\n",
        "  Tact = 54723\n",
        "  Tsleep = (deepsleep-Tact)\n",
        "  ti = np.array ([5390, 11030, 6930, 31000, 373, Tsleep])\n",
        "  ii = np.array ([8.46, 57.63, 28.07, 9.58, 46.12, 0.1])\n",
        "  for i in range (6):\n",
        "    TI += ti[i] *ii [i]\n",
        "  I_nbiot = ((1/deepsleep)*(TI))\n",
        "  return I_nbiot"
      ],
      "metadata": {
        "id": "vFm0TD0ITkyt"
      },
      "execution_count": 69,
      "outputs": []
    },
    {
      "cell_type": "markdown",
      "source": [
        "Zigbee"
      ],
      "metadata": {
        "id": "62ngk_dvYt05"
      }
    },
    {
      "cell_type": "code",
      "source": [
        "def zigbee (Tzigbee):\n",
        "  # 12 byte, 255 ms scanning channel\n",
        "  TI = 0\n",
        "  #Tzigbee = 60000 #60s\n",
        "  Tact = 4853.254\n",
        "  Tsleep = (Tzigbee-Tact)\n",
        "  ti = np.array ([Tsleep, 2.85, 1.374, 0.68, 1.2, 255])\n",
        "  ii = np.array ([0.0003, 15.56, 32, 25.5, 10, 21.8])\n",
        "  for i in range (6):\n",
        "    TI += ti[i] *ii [i]\n",
        "  I_zigbee = ((1/Tzigbee)*(TI))\n",
        "  return I_zigbee"
      ],
      "metadata": {
        "id": "01kt6UEwYvTO"
      },
      "execution_count": 70,
      "outputs": []
    },
    {
      "cell_type": "code",
      "source": [
        "print (power_zigbee)"
      ],
      "metadata": {
        "colab": {
          "base_uri": "https://localhost:8080/"
        },
        "id": "3CTPyxoyqmSE",
        "outputId": "72e355cc-3204-4441-94de-2a2c4a0af2f7"
      },
      "execution_count": 77,
      "outputs": [
        {
          "output_type": "stream",
          "name": "stdout",
          "text": [
            "[0.         0.34159188 0.17133594 0.11458396 0.08620797 0.06918238\n",
            " 0.05783198 0.04972455 0.04364399 0.03891465 0.03513119 0.03203563\n",
            " 0.02945599 0.02727322 0.02540228 0.02378079 0.02236199 0.02111011\n",
            " 0.01999733 0.01900168 0.01810559 0.01729485 0.01655781 0.01588486\n",
            " 0.015268   0.01470048 0.01417661 0.01369155 0.01324114 0.01282179\n",
            " 0.0124304  0.01206425 0.011721   0.01139854 0.01109506 0.01080891\n",
            " 0.01053866 0.01028302 0.01004084 0.00981107 0.0095928  0.00938517\n",
            " 0.00918743 0.00899888 0.00881891 0.00864693 0.00848243 0.00832493\n",
            " 0.008174   0.00802922 0.00789024 0.0077567  0.00762831 0.00750475\n",
            " 0.00738578 0.00727113 0.00716057 0.00705389 0.00695089 0.00685139\n",
            " 0.0067552  0.00666216 0.00657213 0.00648495 0.0064005  0.00631864\n",
            " 0.00623927 0.00616227 0.00608753 0.00601495 0.00594446 0.00587594\n",
            " 0.00580933 0.00574455 0.00568151 0.00562016 0.00556042 0.00550223\n",
            " 0.00544554 0.00539028 0.0053364  0.00528385 0.00523258 0.00518255\n",
            " 0.00513371 0.00508602 0.00503944 0.00499393 0.00494945 0.00490598\n",
            " 0.00486347 0.00482189 0.00478122 0.00474142 0.00470247 0.00466434\n",
            " 0.004627   0.00459043 0.00455461 0.00451951]\n"
          ]
        }
      ]
    },
    {
      "cell_type": "code",
      "source": [
        "t = 100\n",
        "time_array = np.array (range(t))\n",
        "power_bluetooth = np.zeros(t)\n",
        "power_sigfox = np.zeros(t)\n",
        "power_lora = np.zeros(t)\n",
        "power_zigbee = np.zeros(t)\n",
        "power_nb_iot = np.zeros(t)\n",
        "\n",
        "for i in range(1,t):\n",
        "  time = i*60000\n",
        "  power_bluetooth [i] = bluetooth(time)*3.6\n",
        "  power_sigfox [i] = sigfox (time)*3.6\n",
        "  power_lora [i] = lora (time)*3.6\n",
        "  power_zigbee [i] = zigbee (time)*3.6\n",
        "  power_nb_iot [i] = nb_iot (time)*3.6"
      ],
      "metadata": {
        "id": "vpob_Ma6eOoj"
      },
      "execution_count": 72,
      "outputs": []
    },
    {
      "cell_type": "code",
      "source": [
        "fig, ax = plt.subplots()\n",
        "#ax.plot(time_array, power_bluetooth, label='Bluetooth')\n",
        "ax.plot(time_array, power_sigfox, label='Sigfox')\n",
        "ax.plot(time_array, power_lora, label='LoRa')\n",
        "ax.plot(time_array, power_nb_iot, label='NB IoT')\n",
        "ax.plot(time_array, power_zigbee, label='Zigbee')\n",
        "ax.set_xlabel('Time (min)')\n",
        "ax.set_ylabel('Power (mWatt)')\n",
        "ax.set_title('Power consumption')\n",
        "ax.grid('on')\n",
        "ax.legend()\n",
        "plt.show()"
      ],
      "metadata": {
        "colab": {
          "base_uri": "https://localhost:8080/",
          "height": 472
        },
        "id": "KkZjlcnTuE-e",
        "outputId": "f3480dc0-7057-4ac3-8b8d-2ea5ec0c4f4d"
      },
      "execution_count": 79,
      "outputs": [
        {
          "output_type": "display_data",
          "data": {
            "text/plain": [
              "<Figure size 640x480 with 1 Axes>"
            ],
            "image/png": "[encoded data removed]"
          },
          "metadata": {}
        }
      ]
    }
  ]
}