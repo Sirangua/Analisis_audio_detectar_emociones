{
 "cells": [
  {
   "cell_type": "markdown",
   "metadata": {},
   "source": [
    "# Análisis estadístico de las señales\n",
    "### Importar librerias\n"
   ]
  },
  {
   "cell_type": "code",
   "execution_count": 1,
   "metadata": {},
   "outputs": [],
   "source": [
    "import pandas as pd\n",
    "from scipy import stats\n",
    "import math"
   ]
  },
  {
   "cell_type": "markdown",
   "metadata": {},
   "source": [
    "### Crear el dataframe\n"
   ]
  },
  {
   "cell_type": "code",
   "execution_count": 2,
   "metadata": {},
   "outputs": [],
   "source": [
    "data = pd.read_csv(\"DC_a01.csv\")"
   ]
  },
  {
   "cell_type": "markdown",
   "metadata": {},
   "source": [
    "### Variables estadisticas"
   ]
  },
  {
   "cell_type": "code",
   "execution_count": 3,
   "metadata": {},
   "outputs": [
    {
     "ename": "TypeError",
     "evalue": "only size-1 arrays can be converted to Python scalars",
     "output_type": "error",
     "traceback": [
      "\u001b[1;31m---------------------------------------------------------------------------\u001b[0m",
      "\u001b[1;31mTypeError\u001b[0m                                 Traceback (most recent call last)",
      "\u001b[1;32me:\\Universidad\\Semestre 7\\Procesamiento señales digitales\\SAVEE\\analisis.ipynb Celda 6\u001b[0m in \u001b[0;36m<cell line: 1>\u001b[1;34m()\u001b[0m\n\u001b[1;32m----> <a href='vscode-notebook-cell:/e%3A/Universidad/Semestre%207/Procesamiento%20se%C3%B1ales%20digitales/SAVEE/analisis.ipynb#W5sZmlsZQ%3D%3D?line=0'>1</a>\u001b[0m m1 \u001b[39m=\u001b[39m \u001b[39mfloat\u001b[39;49m (stats\u001b[39m.\u001b[39;49mmoment (data, moment \u001b[39m=\u001b[39;49m \u001b[39m1\u001b[39;49m)) \u001b[39m#First moment \u001b[39;00m\n\u001b[0;32m      <a href='vscode-notebook-cell:/e%3A/Universidad/Semestre%207/Procesamiento%20se%C3%B1ales%20digitales/SAVEE/analisis.ipynb#W5sZmlsZQ%3D%3D?line=1'>2</a>\u001b[0m m2 \u001b[39m=\u001b[39m \u001b[39mfloat\u001b[39m (stats\u001b[39m.\u001b[39mmoment (data, moment \u001b[39m=\u001b[39m \u001b[39m2\u001b[39m)) \u001b[39m#Second moment\u001b[39;00m\n\u001b[0;32m      <a href='vscode-notebook-cell:/e%3A/Universidad/Semestre%207/Procesamiento%20se%C3%B1ales%20digitales/SAVEE/analisis.ipynb#W5sZmlsZQ%3D%3D?line=2'>3</a>\u001b[0m m3 \u001b[39m=\u001b[39m \u001b[39mfloat\u001b[39m (stats\u001b[39m.\u001b[39mmoment (data, moment \u001b[39m=\u001b[39m \u001b[39m3\u001b[39m))\u001b[39m#Third moment\u001b[39;00m\n",
      "\u001b[1;31mTypeError\u001b[0m: only size-1 arrays can be converted to Python scalars"
     ]
    }
   ],
   "source": [
    "m1 = float (stats.moment (data, moment = 1)) #First moment \n",
    "m2 = float (stats.moment (data, moment = 2)) #Second moment\n",
    "m3 = float (stats.moment (data, moment = 3))#Third moment\n",
    "m4 = float (stats.moment (data, moment = 4)) #Fourth moment\n",
    "sc = float (m2 - math.sqrt (pow (m1,2))) #Second cumulant\n",
    "tc = float (m3 - (3*m1*m2) - (2*pow (m1,3))) #Third cumulant\n",
    "fc = float (m4 + (3*m3*m1) - (3*pow (m2,2)) + (12*m2*pow (m1,2)) - (6*pow (m1,4))) #Fourth cumulant\n",
    "skew = float (stats.skew (data)) #Skewness\n",
    "kurt = float (stats.kurtosis (data)) #Kurtosis\n",
    "am = abs(float(data.mean())) #Absolute mean\n",
    "pv = 0.5*(float(data.max()) - float(data.min())) #Peak value\n",
    "da = abs(data)\n",
    "dsa = da**2\n",
    "srv = float(pow((dsa.sum()/int(dsa.count())),2)) #Square root value\n",
    "d2 = data**2\n",
    "rms = math.sqrt (float(d2.sum())/int(d2.count())) #Root mean square\n",
    "cf = pv/rms #Crest factor\n",
    "sf = rms/am #Shape factor\n"
   ]
  },
  {
   "cell_type": "markdown",
   "metadata": {},
   "source": [
    "### Mostrando las variables"
   ]
  },
  {
   "cell_type": "code",
   "execution_count": 17,
   "metadata": {},
   "outputs": [
    {
     "name": "stdout",
     "output_type": "stream",
     "text": [
      "First moment = 0.0\n",
      "Second moment = -0.002342963521293741\n",
      "Third moment = 0.02506088113965924\n",
      "Fourth moment = 0.004991251413350029\n",
      "Second cumulant = 0.02506088113965924\n",
      "Third cummulant = -0.002342963521293741\n",
      "Fourth cumulant = 0.0031071081228616444\n",
      "Skewness = -0.5905695106272097\n",
      "Kurtosis = 4.947248128972598\n",
      "Absolute mean = 0.042238587723755786\n",
      "Peak value = 0.9575653076171875\n",
      "Squared root value = 0.0007206529207343895\n",
      "RMS value = 0.16384437565127663\n",
      "Crest factor = 5.844358732552724\n",
      "Shape factor = 3.8790211624222333\n"
     ]
    }
   ],
   "source": [
    "print('First moment = ' + str (m1))\n",
    "print('Second moment = '  + str (m3))\n",
    "print('Third moment = '  + str (m2))\n",
    "print('Fourth moment = '  + str (m4))\n",
    "print('Second cumulant = '  + str (sc))\n",
    "print('Third cummulant = '  + str (tc))\n",
    "print('Fourth cumulant = '  + str (fc))\n",
    "print('Skewness = '  + str (skew))\n",
    "print('Kurtosis = '  + str (kurt))\n",
    "print('Absolute mean = '  + str (am))\n",
    "print('Peak value = '  + str (pv))\n",
    "print('Squared root value = '  + str (srv))\n",
    "print('RMS value = '  + str (rms))\n",
    "print('Crest factor = '  + str (cf))\n",
    "print('Shape factor = '  + str (sf))\n"
   ]
  }
 ],
 "metadata": {
  "kernelspec": {
   "display_name": "Python 3.9.12 ('base')",
   "language": "python",
   "name": "python3"
  },
  "language_info": {
   "codemirror_mode": {
    "name": "ipython",
    "version": 3
   },
   "file_extension": ".py",
   "mimetype": "text/x-python",
   "name": "python",
   "nbconvert_exporter": "python",
   "pygments_lexer": "ipython3",
   "version": "3.9.12"
  },
  "orig_nbformat": 4,
  "vscode": {
   "interpreter": {
    "hash": "23ee8838b6f140c114a78ba19078c4e322522d69deb724e207822874dd3cc55b"
   }
  }
 },
 "nbformat": 4,
 "nbformat_minor": 2
}
